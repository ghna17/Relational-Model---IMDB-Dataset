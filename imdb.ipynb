{
 "cells": [
  {
   "cell_type": "code",
   "execution_count": 12,
   "id": "18522698",
   "metadata": {},
   "outputs": [
    {
     "data": {
      "text/html": [
       "<style>\n",
       "blockquote { background: #AEDE94; }\n",
       "h1 { \n",
       "    padding-top: 25px;\n",
       "    padding-bottom: 25px;\n",
       "    text-align: left; \n",
       "    padding-left: 10px;\n",
       "    background-color: #DDDDDD; \n",
       "    color: black;\n",
       "}\n",
       "h2 { \n",
       "    padding-top: 10px;\n",
       "    padding-bottom: 10px;\n",
       "    text-align: left; \n",
       "    padding-left: 5px;\n",
       "    background-color: #EEEEEE; \n",
       "    color: black;\n",
       "}\n",
       "\n",
       "div.exercise {\n",
       "\tbackground-color: #ffcccc;\n",
       "\tborder-color: #E9967A; \t\n",
       "\tborder-left: 5px solid #800080; \n",
       "\tpadding: 0.5em;\n",
       "}\n",
       "\n",
       "div.exercise-r {\n",
       "\tbackground-color: #fce8e8;\n",
       "\tborder-color: #E9967A; \t\n",
       "\tborder-left: 5px solid #800080; \n",
       "\tpadding: 0.5em;\n",
       "}\n",
       "\n",
       "\n",
       "span.sub-q {\n",
       "\tfont-weight: bold;\n",
       "}\n",
       "div.theme {\n",
       "\tbackground-color: #DDDDDD;\n",
       "\tborder-color: #E9967A; \t\n",
       "\tborder-left: 5px solid #800080; \n",
       "\tpadding: 0.5em;\n",
       "\tfont-size: 18pt;\n",
       "}\n",
       "div.gc { \n",
       "\tbackground-color: #AEDE94;\n",
       "\tborder-color: #E9967A; \t \n",
       "\tborder-left: 5px solid #800080; \n",
       "\tpadding: 0.5em;\n",
       "\tfont-size: 12pt;\n",
       "}\n",
       "p.q1 { \n",
       "    padding-top: 5px;\n",
       "    padding-bottom: 5px;\n",
       "    text-align: left; \n",
       "    padding-left: 5px;\n",
       "    background-color: #EEEEEE; \n",
       "    color: black;\n",
       "}\n",
       "header {\n",
       "   padding-top: 35px;\n",
       "    padding-bottom: 35px;\n",
       "    text-align: left; \n",
       "    padding-left: 10px;\n",
       "    background-color: #DDDDDD; \n",
       "    color: black;\n",
       "}\n",
       "</style>\n",
       "\n"
      ],
      "text/plain": [
       "<IPython.core.display.HTML object>"
      ]
     },
     "execution_count": 12,
     "metadata": {},
     "output_type": "execute_result"
    }
   ],
   "source": [
    "## RUN THIS CELL TO GET THE RIGHT FORMATTING AND TO LOAD NumPy\n",
    "import requests\n",
    "import numpy as np\n",
    "import matplotlib.pyplot as plt\n",
    "from IPython.core.display import HTML\n",
    "styles = requests.get(\"https://raw.githubusercontent.com/Harvard-IACS/2018-CS109A/master/content/styles/cs109.css\").text\n",
    "HTML(styles)"
   ]
  },
  {
   "cell_type": "markdown",
   "id": "0cbd765d",
   "metadata": {},
   "source": [
    "<div class=\"exercise\"><b>Write a function to determine some interesting facts about the provided actor/actress.</b></div> "
   ]
  },
  {
   "cell_type": "markdown",
   "id": "034c015a",
   "metadata": {},
   "source": [
    "Write a Python function called analyzeActor(dbcon, actor_name) that will perform appropriate SQL queries (to the database with the connection dbcon) to determine some interesting facts about the provided actor/actress. Your function must use sqlalchemy, not sql magic). Specifically, the function should only examine movies and display the following information:\n",
    "- The first appearance of the actor (title of movie, year the movie premiered, the character the actor played, and the age of the actor at that time).\n",
    "- The last appearance of the actor (title of movie, year the movie premiered, the character the actor played, and the age of the actor at that time).\n",
    "- The actor’s lowest rated movie.\n",
    "- The actor’s highest rated movie.\n",
    "- A line graph of the number of movies the actor was involved in for each year over their career."
   ]
  },
  {
   "cell_type": "markdown",
   "id": "2795a0a4",
   "metadata": {},
   "source": [
    "**Run the code cell below to establish the connection to the `imdb` database using the connection string `cstring` using sqlite. However, remember to import necessary Python libraries such as sqlalchemy and pandas first!**"
   ]
  },
  {
   "cell_type": "code",
   "execution_count": 13,
   "id": "9f680027",
   "metadata": {},
   "outputs": [],
   "source": [
    "import sqlalchemy as sa\n",
    "import pandas as pd\n",
    "cstring = \"sqlite+pysqlite:///imdb.db\"\n",
    "engine = sa.create_engine(cstring)\n",
    "connection = engine.connect()"
   ]
  },
  {
   "cell_type": "markdown",
   "id": "360f70bd",
   "metadata": {},
   "source": [
    "**We should define our function to analyze data now.**"
   ]
  },
  {
   "cell_type": "markdown",
   "id": "01ad39b2",
   "metadata": {},
   "source": [
    "Let's breakdown our super function into smaller steps! First of all we should notice that there must be at least two queries inside this function:\n",
    "- Query 1: Extract the information about the actor's first and last movie, his/her age and movie character at these times, and his/her lowest and highest rated movie.\n",
    "- Query 2: Extract the number of movies the actor was involved in for each year."
   ]
  },
  {
   "cell_type": "code",
   "execution_count": 14,
   "id": "32d6f27b",
   "metadata": {},
   "outputs": [],
   "source": [
    "# define a function\n",
    "def analyzeActor(dbcon, actor_name):\n",
    "    # write the first query using basic SQL statements and assign it to variable pyquery \n",
    "    pyquery = '''\n",
    "    SELECT T2.title_id, T2.primary_title, T2.premiered, T2.name, T2.age, T2.characters, rating\n",
    "    FROM (SELECT title_id, primary_title, premiered, T1.name, (premiered-T1.born) AS age, characters\n",
    "    FROM (SELECT person_id, name, born, title_id, characters\n",
    "    FROM people\n",
    "    INNER JOIN crew\n",
    "    USING (person_id)\n",
    "    WHERE name = :name AND born IS NOT NULL) AS T1\n",
    "    INNER JOIN titles\n",
    "    USING (title_id)\n",
    "    WHERE premiered IS NOT NULL AND titles.type = 'movie'\n",
    "    GROUP BY premiered) AS T2\n",
    "    LEFT JOIN ratings\n",
    "    USING (title_id)\n",
    "    ORDER BY T2.age\n",
    "    '''\n",
    "    \n",
    "    # write the second query using basic SQL statements and assign it to variable pyquery2\n",
    "    pyquery2 = '''SELECT COUNT(primary_title) AS title_count, premiered\n",
    "    FROM (SELECT person_id, name, born, title_id, characters\n",
    "    FROM people\n",
    "    INNER JOIN crew\n",
    "    USING (person_id)\n",
    "    WHERE name = :name AND born IS NOT NULL) AS T1\n",
    "    INNER JOIN titles\n",
    "    USING (title_id)\n",
    "    WHERE premiered IS NOT NULL AND titles.type = 'movie'\n",
    "    GROUP BY premiered'''\n",
    "    \n",
    "    # use pyquery with a bind operation to create a dataframe df\n",
    "    prepare_stmt = sa.sql.text(pyquery)\n",
    "    bound_stmt = prepare_stmt.bindparams(name = actor_name)\n",
    "    df = pd.read_sql_query(bound_stmt, con = dbcon)\n",
    "    \n",
    "    # use pyquery2 with a bind operation to create a dataframe df2\n",
    "    prepare_stmt2 = sa.sql.text(pyquery2)\n",
    "    bound_stmt2 = prepare_stmt2.bindparams(name = actor_name)\n",
    "    df2 = pd.read_sql_query(bound_stmt2, con = dbcon)\n",
    "    \n",
    "    return df.head(10), df2.head(10)"
   ]
  },
  {
   "cell_type": "markdown",
   "id": "5643690d",
   "metadata": {},
   "source": [
    "**Let's see what we have so far in our function by running the code below with our analysis of an actor named Warren Beatty.**"
   ]
  },
  {
   "cell_type": "code",
   "execution_count": 15,
   "id": "bad04ef5",
   "metadata": {},
   "outputs": [
    {
     "data": {
      "text/html": [
       "<div>\n",
       "<style scoped>\n",
       "    .dataframe tbody tr th:only-of-type {\n",
       "        vertical-align: middle;\n",
       "    }\n",
       "\n",
       "    .dataframe tbody tr th {\n",
       "        vertical-align: top;\n",
       "    }\n",
       "\n",
       "    .dataframe thead th {\n",
       "        text-align: right;\n",
       "    }\n",
       "</style>\n",
       "<table border=\"1\" class=\"dataframe\">\n",
       "  <thead>\n",
       "    <tr style=\"text-align: right;\">\n",
       "      <th></th>\n",
       "      <th>title_id</th>\n",
       "      <th>primary_title</th>\n",
       "      <th>premiered</th>\n",
       "      <th>name</th>\n",
       "      <th>age</th>\n",
       "      <th>characters</th>\n",
       "      <th>rating</th>\n",
       "    </tr>\n",
       "  </thead>\n",
       "  <tbody>\n",
       "    <tr>\n",
       "      <th>0</th>\n",
       "      <td>tt0055382</td>\n",
       "      <td>The Roman Spring of Mrs. Stone</td>\n",
       "      <td>1961</td>\n",
       "      <td>Warren Beatty</td>\n",
       "      <td>24</td>\n",
       "      <td>[\"Paolo di Leo\"]</td>\n",
       "      <td>6.5</td>\n",
       "    </tr>\n",
       "    <tr>\n",
       "      <th>1</th>\n",
       "      <td>tt0055738</td>\n",
       "      <td>All Fall Down</td>\n",
       "      <td>1962</td>\n",
       "      <td>Warren Beatty</td>\n",
       "      <td>25</td>\n",
       "      <td>[\"Berry-Berry Willart\"]</td>\n",
       "      <td>6.8</td>\n",
       "    </tr>\n",
       "    <tr>\n",
       "      <th>2</th>\n",
       "      <td>tt0058294</td>\n",
       "      <td>Lilith</td>\n",
       "      <td>1964</td>\n",
       "      <td>Warren Beatty</td>\n",
       "      <td>27</td>\n",
       "      <td>[\"Vincent Bruce\"]</td>\n",
       "      <td>6.9</td>\n",
       "    </tr>\n",
       "    <tr>\n",
       "      <th>3</th>\n",
       "      <td>tt0059447</td>\n",
       "      <td>Mickey One</td>\n",
       "      <td>1965</td>\n",
       "      <td>Warren Beatty</td>\n",
       "      <td>28</td>\n",
       "      <td>[\"Mickey\"]</td>\n",
       "      <td>6.4</td>\n",
       "    </tr>\n",
       "    <tr>\n",
       "      <th>4</th>\n",
       "      <td>tt0060581</td>\n",
       "      <td>Kaleidoscope</td>\n",
       "      <td>1966</td>\n",
       "      <td>Warren Beatty</td>\n",
       "      <td>29</td>\n",
       "      <td>[\"Barney Lincoln\"]</td>\n",
       "      <td>6.0</td>\n",
       "    </tr>\n",
       "    <tr>\n",
       "      <th>5</th>\n",
       "      <td>tt0061418</td>\n",
       "      <td>Bonnie and Clyde</td>\n",
       "      <td>1967</td>\n",
       "      <td>Warren Beatty</td>\n",
       "      <td>30</td>\n",
       "      <td>[\"Clyde Barrow\"]</td>\n",
       "      <td>7.8</td>\n",
       "    </tr>\n",
       "    <tr>\n",
       "      <th>6</th>\n",
       "      <td>tt0066184</td>\n",
       "      <td>The Only Game in Town</td>\n",
       "      <td>1970</td>\n",
       "      <td>Warren Beatty</td>\n",
       "      <td>33</td>\n",
       "      <td>[\"Joe Grady\"]</td>\n",
       "      <td>5.7</td>\n",
       "    </tr>\n",
       "    <tr>\n",
       "      <th>7</th>\n",
       "      <td>tt0067411</td>\n",
       "      <td>McCabe &amp; Mrs. Miller</td>\n",
       "      <td>1971</td>\n",
       "      <td>Warren Beatty</td>\n",
       "      <td>34</td>\n",
       "      <td>[\"John McCabe\"]</td>\n",
       "      <td>7.6</td>\n",
       "    </tr>\n",
       "    <tr>\n",
       "      <th>8</th>\n",
       "      <td>tt0071970</td>\n",
       "      <td>The Parallax View</td>\n",
       "      <td>1974</td>\n",
       "      <td>Warren Beatty</td>\n",
       "      <td>37</td>\n",
       "      <td>[\"Joseph Frady\"]</td>\n",
       "      <td>7.1</td>\n",
       "    </tr>\n",
       "    <tr>\n",
       "      <th>9</th>\n",
       "      <td>tt0073008</td>\n",
       "      <td>The Fortune</td>\n",
       "      <td>1975</td>\n",
       "      <td>Warren Beatty</td>\n",
       "      <td>38</td>\n",
       "      <td>[\"Nicky Wilson\"]</td>\n",
       "      <td>5.7</td>\n",
       "    </tr>\n",
       "  </tbody>\n",
       "</table>\n",
       "</div>"
      ],
      "text/plain": [
       "    title_id                   primary_title  premiered           name  age  \\\n",
       "0  tt0055382  The Roman Spring of Mrs. Stone       1961  Warren Beatty   24   \n",
       "1  tt0055738                   All Fall Down       1962  Warren Beatty   25   \n",
       "2  tt0058294                          Lilith       1964  Warren Beatty   27   \n",
       "3  tt0059447                      Mickey One       1965  Warren Beatty   28   \n",
       "4  tt0060581                    Kaleidoscope       1966  Warren Beatty   29   \n",
       "5  tt0061418                Bonnie and Clyde       1967  Warren Beatty   30   \n",
       "6  tt0066184           The Only Game in Town       1970  Warren Beatty   33   \n",
       "7  tt0067411            McCabe & Mrs. Miller       1971  Warren Beatty   34   \n",
       "8  tt0071970               The Parallax View       1974  Warren Beatty   37   \n",
       "9  tt0073008                     The Fortune       1975  Warren Beatty   38   \n",
       "\n",
       "                characters  rating  \n",
       "0         [\"Paolo di Leo\"]     6.5  \n",
       "1  [\"Berry-Berry Willart\"]     6.8  \n",
       "2        [\"Vincent Bruce\"]     6.9  \n",
       "3               [\"Mickey\"]     6.4  \n",
       "4       [\"Barney Lincoln\"]     6.0  \n",
       "5         [\"Clyde Barrow\"]     7.8  \n",
       "6            [\"Joe Grady\"]     5.7  \n",
       "7          [\"John McCabe\"]     7.6  \n",
       "8         [\"Joseph Frady\"]     7.1  \n",
       "9         [\"Nicky Wilson\"]     5.7  "
      ]
     },
     "metadata": {},
     "output_type": "display_data"
    },
    {
     "data": {
      "text/html": [
       "<div>\n",
       "<style scoped>\n",
       "    .dataframe tbody tr th:only-of-type {\n",
       "        vertical-align: middle;\n",
       "    }\n",
       "\n",
       "    .dataframe tbody tr th {\n",
       "        vertical-align: top;\n",
       "    }\n",
       "\n",
       "    .dataframe thead th {\n",
       "        text-align: right;\n",
       "    }\n",
       "</style>\n",
       "<table border=\"1\" class=\"dataframe\">\n",
       "  <thead>\n",
       "    <tr style=\"text-align: right;\">\n",
       "      <th></th>\n",
       "      <th>title_count</th>\n",
       "      <th>premiered</th>\n",
       "    </tr>\n",
       "  </thead>\n",
       "  <tbody>\n",
       "    <tr>\n",
       "      <th>0</th>\n",
       "      <td>2</td>\n",
       "      <td>1961</td>\n",
       "    </tr>\n",
       "    <tr>\n",
       "      <th>1</th>\n",
       "      <td>1</td>\n",
       "      <td>1962</td>\n",
       "    </tr>\n",
       "    <tr>\n",
       "      <th>2</th>\n",
       "      <td>1</td>\n",
       "      <td>1964</td>\n",
       "    </tr>\n",
       "    <tr>\n",
       "      <th>3</th>\n",
       "      <td>1</td>\n",
       "      <td>1965</td>\n",
       "    </tr>\n",
       "    <tr>\n",
       "      <th>4</th>\n",
       "      <td>2</td>\n",
       "      <td>1966</td>\n",
       "    </tr>\n",
       "    <tr>\n",
       "      <th>5</th>\n",
       "      <td>1</td>\n",
       "      <td>1967</td>\n",
       "    </tr>\n",
       "    <tr>\n",
       "      <th>6</th>\n",
       "      <td>1</td>\n",
       "      <td>1970</td>\n",
       "    </tr>\n",
       "    <tr>\n",
       "      <th>7</th>\n",
       "      <td>2</td>\n",
       "      <td>1971</td>\n",
       "    </tr>\n",
       "    <tr>\n",
       "      <th>8</th>\n",
       "      <td>1</td>\n",
       "      <td>1974</td>\n",
       "    </tr>\n",
       "    <tr>\n",
       "      <th>9</th>\n",
       "      <td>2</td>\n",
       "      <td>1975</td>\n",
       "    </tr>\n",
       "  </tbody>\n",
       "</table>\n",
       "</div>"
      ],
      "text/plain": [
       "   title_count  premiered\n",
       "0            2       1961\n",
       "1            1       1962\n",
       "2            1       1964\n",
       "3            1       1965\n",
       "4            2       1966\n",
       "5            1       1967\n",
       "6            1       1970\n",
       "7            2       1971\n",
       "8            1       1974\n",
       "9            2       1975"
      ]
     },
     "metadata": {},
     "output_type": "display_data"
    }
   ],
   "source": [
    "df1, df2 = analyzeActor(connection, 'Warren Beatty')\n",
    "display(df1, df2)"
   ]
  },
  {
   "cell_type": "markdown",
   "id": "8798c742",
   "metadata": {},
   "source": [
    "Wow, that's kinda cool! We now get all the information we need. The only thing that we need to do right now is to clean some parts of the dataframe, retrieve the exact data we want from these two dataframes, and display them."
   ]
  },
  {
   "cell_type": "code",
   "execution_count": 16,
   "id": "e196cbd5",
   "metadata": {},
   "outputs": [],
   "source": [
    "# define a function\n",
    "def analyzeActor(dbcon, actor_name):\n",
    "    # write the first query using basic SQL statements and assign it to variable pyquery \n",
    "    pyquery = '''\n",
    "    SELECT T2.title_id, T2.primary_title, T2.premiered, T2.name, T2.age, T2.characters, rating\n",
    "    FROM (SELECT title_id, primary_title, premiered, T1.name, (premiered-T1.born) AS age, characters\n",
    "    FROM (SELECT person_id, name, born, title_id, characters\n",
    "    FROM people\n",
    "    INNER JOIN crew\n",
    "    USING (person_id)\n",
    "    WHERE name = :name AND born IS NOT NULL) AS T1\n",
    "    INNER JOIN titles\n",
    "    USING (title_id)\n",
    "    WHERE premiered IS NOT NULL AND titles.type = 'movie'\n",
    "    GROUP BY premiered) AS T2\n",
    "    LEFT JOIN ratings\n",
    "    USING (title_id)\n",
    "    ORDER BY T2.age\n",
    "    '''\n",
    "    \n",
    "    # write the second query using basic SQL statements and assign it to variable pyquery2 \n",
    "    pyquery2 = '''SELECT COUNT(primary_title) AS title_count, premiered\n",
    "    FROM (SELECT person_id, name, born, title_id, characters\n",
    "    FROM people\n",
    "    INNER JOIN crew\n",
    "    USING (person_id)\n",
    "    WHERE name = :name AND born IS NOT NULL) AS T1\n",
    "    INNER JOIN titles\n",
    "    USING (title_id)\n",
    "    WHERE premiered IS NOT NULL AND titles.type = 'movie'\n",
    "    GROUP BY premiered'''\n",
    "    \n",
    "    # use pyquery with a bind operation to create a dataframe df\n",
    "    prepare_stmt = sa.sql.text(pyquery)\n",
    "    bound_stmt = prepare_stmt.bindparams(name = actor_name)\n",
    "    df = pd.read_sql_query(bound_stmt, con = dbcon)\n",
    "    \n",
    "    # use lambda function to clean the text\n",
    "    to_clean = lambda s: s[2:-2]\n",
    "    \n",
    "    # apply to_clean function to clean the characters column of the dataframe df\n",
    "    df[\"characters\"] = df[\"characters\"].apply(to_clean)\n",
    "    \n",
    "    # use basic dataframe operation to get the rows of the actor's first and last appearances\n",
    "    first_ap = df[df.age == df.age.min()]\n",
    "    last_ap = df[df.age == df.age.max()]\n",
    "    \n",
    "    # use basic dataframe operation to get the rows of the actor's lowest and highest appearances\n",
    "    min_rate = df[df.rating == df.rating.min()]\n",
    "    max_rate = df[df.rating == df.rating.max()]\n",
    "    \n",
    "    # use pyquery2 with a bind operation to create a dataframe df2\n",
    "    prepare_stmt2 = sa.sql.text(pyquery2)\n",
    "    bound_stmt2 = prepare_stmt2.bindparams(name = actor_name)\n",
    "    df2 = pd.read_sql_query(bound_stmt2, con = dbcon)\n",
    "    \n",
    "    # use print statements to display our data\n",
    "    print(\"=================================================\")\n",
    "    print(\"Actor:\", actor_name)\n",
    "    print(\"=================================================\")\n",
    "    print()\n",
    "    print(\"First appearance:\")\n",
    "    print(\"=================\")\n",
    "    print(str(first_ap.iloc[0,2]) + \": Played \" + str(first_ap.iloc[0,5]) + \" in '\" + str(first_ap.iloc[0,1]) + \"' (at age \" + str(first_ap.iloc[0,4]) + \")\")\n",
    "    print()\n",
    "    print(\"Last appearance:\")\n",
    "    print(\"=================\")\n",
    "    print(str(last_ap.iloc[0,2]) + \": Played \" + str(last_ap.iloc[0,5]) + \" in '\" + str(last_ap.iloc[0,1]) + \"' (at age \" + str(last_ap.iloc[0,4]) + \")\")\n",
    "    print()\n",
    "    print(\"Lowest rated movie: \" + str(min_rate.iloc[0,1]) + \" (rating = \" + str(min_rate.iloc[0,6]) + \")\") \n",
    "    print(\"Highest rated movie: \" + str(max_rate.iloc[0,1]) + \" (rating = \" + str(max_rate.iloc[0,6]) + \")\") \n",
    "    \n",
    "    # use plot() function from matplotlib to create a graph showing the number of movies per year of the actor\n",
    "    plt.plot(df2[\"premiered\"], df2[\"title_count\"])\n",
    "    plt.title(\"Numer of Movies Per Year\")\n",
    "    plt.xlabel(\"Year\")\n",
    "    plt.ylabel(\"Number of Movies\")\n",
    "    plt.show()"
   ]
  },
  {
   "cell_type": "markdown",
   "id": "e6bd8599",
   "metadata": {},
   "source": [
    "**Run the code below to test our function with Warren Beatty.**"
   ]
  },
  {
   "cell_type": "code",
   "execution_count": 17,
   "id": "0217df51",
   "metadata": {},
   "outputs": [
    {
     "name": "stdout",
     "output_type": "stream",
     "text": [
      "=================================================\n",
      "Actor: Warren Beatty\n",
      "=================================================\n",
      "\n",
      "First appearance:\n",
      "=================\n",
      "1961: Played Paolo di Leo in 'The Roman Spring of Mrs. Stone' (at age 24)\n",
      "\n",
      "Last appearance:\n",
      "=================\n",
      "2021: Played Self in 'Live at Mister Kelly's' (at age 84)\n",
      "\n",
      "Lowest rated movie: Town & Country (rating = 4.5)\n",
      "Highest rated movie: Live at Mister Kelly's (rating = 8.3)\n"
     ]
    },
    {
     "data": {
      "image/png": "[encoded data removed]",
      "text/plain": [
       "<Figure size 432x288 with 1 Axes>"
      ]
     },
     "metadata": {
      "needs_background": "light"
     },
     "output_type": "display_data"
    }
   ],
   "source": [
    "analyzeActor(connection, 'Warren Beatty')"
   ]
  },
  {
   "cell_type": "markdown",
   "id": "f9876dcd",
   "metadata": {},
   "source": [
    "It seems like we have done a great job in analyzing Warren Beatty's career life! She has spent most of her life acting and got a great recognition from the audience. Let's now look at Tom Cruise's acting life."
   ]
  },
  {
   "cell_type": "code",
   "execution_count": 18,
   "id": "1d2d6651",
   "metadata": {},
   "outputs": [
    {
     "name": "stdout",
     "output_type": "stream",
     "text": [
      "=================================================\n",
      "Actor: Tom Cruise\n",
      "=================================================\n",
      "\n",
      "First appearance:\n",
      "=================\n",
      "1982: Played Woody in 'Losin' It' (at age 20)\n",
      "\n",
      "Last appearance:\n",
      "=================\n",
      "2024: Played Ethan Hunt in 'Mission: Impossible 8' (at age 62)\n",
      "\n",
      "Lowest rated movie: Losin' It (rating = 4.9)\n",
      "Highest rated movie: Success Formula (rating = 9.9)\n"
     ]
    },
    {
     "data": {
      "image/png": "[encoded data removed]",
      "text/plain": [
       "<Figure size 432x288 with 1 Axes>"
      ]
     },
     "metadata": {
      "needs_background": "light"
     },
     "output_type": "display_data"
    }
   ],
   "source": [
    "analyzeActor(connection, 'Tom Cruise')"
   ]
  },
  {
   "cell_type": "markdown",
   "id": "5eda511a",
   "metadata": {},
   "source": [
    "It's amazing! Tom Cruise got the nearly perfect rating with a movie called \"Success Formula\". Moreover, 2011 was his acting year that has the highest number of movies he participated. As you can see, we can see a lot of insights with this super cool function. "
   ]
  },
  {
   "cell_type": "markdown",
   "id": "e909f84e",
   "metadata": {},
   "source": [
    "<div class=\"exercise\"><b>Write a function to test the correlation between the rating and the number of regions one title is streamed.</b></div> \n",
    "One thing we should investigate in the imdb database is the relationship between the rating of the title and its number of streaming regions. We can examine this relationship among different types of titles including movie, video game, short film, TV series, etc. My hypothesis is that the more regions the title is streamed, the higher rating it will get. "
   ]
  },
  {
   "cell_type": "markdown",
   "id": "d9a04e3c",
   "metadata": {},
   "source": [
    "**We now start our function with the simple query.**"
   ]
  },
  {
   "cell_type": "code",
   "execution_count": 19,
   "id": "a422ef68",
   "metadata": {},
   "outputs": [
    {
     "name": "stdout",
     "output_type": "stream",
     "text": [
      "Number of records: 913268\n"
     ]
    },
    {
     "data": {
      "text/html": [
       "<div>\n",
       "<style scoped>\n",
       "    .dataframe tbody tr th:only-of-type {\n",
       "        vertical-align: middle;\n",
       "    }\n",
       "\n",
       "    .dataframe tbody tr th {\n",
       "        vertical-align: top;\n",
       "    }\n",
       "\n",
       "    .dataframe thead th {\n",
       "        text-align: right;\n",
       "    }\n",
       "</style>\n",
       "<table border=\"1\" class=\"dataframe\">\n",
       "  <thead>\n",
       "    <tr style=\"text-align: right;\">\n",
       "      <th></th>\n",
       "      <th>title_id</th>\n",
       "      <th>region_num</th>\n",
       "      <th>rating</th>\n",
       "      <th>votes</th>\n",
       "    </tr>\n",
       "  </thead>\n",
       "  <tbody>\n",
       "    <tr>\n",
       "      <th>0</th>\n",
       "      <td>tt0050536</td>\n",
       "      <td>1</td>\n",
       "      <td>10.0</td>\n",
       "      <td>13</td>\n",
       "    </tr>\n",
       "    <tr>\n",
       "      <th>1</th>\n",
       "      <td>tt0056535</td>\n",
       "      <td>1</td>\n",
       "      <td>10.0</td>\n",
       "      <td>13</td>\n",
       "    </tr>\n",
       "    <tr>\n",
       "      <th>2</th>\n",
       "      <td>tt0061857</td>\n",
       "      <td>1</td>\n",
       "      <td>10.0</td>\n",
       "      <td>10</td>\n",
       "    </tr>\n",
       "    <tr>\n",
       "      <th>3</th>\n",
       "      <td>tt0111263</td>\n",
       "      <td>1</td>\n",
       "      <td>10.0</td>\n",
       "      <td>7</td>\n",
       "    </tr>\n",
       "    <tr>\n",
       "      <th>4</th>\n",
       "      <td>tt0116083</td>\n",
       "      <td>1</td>\n",
       "      <td>10.0</td>\n",
       "      <td>46</td>\n",
       "    </tr>\n",
       "    <tr>\n",
       "      <th>5</th>\n",
       "      <td>tt0132596</td>\n",
       "      <td>1</td>\n",
       "      <td>10.0</td>\n",
       "      <td>12</td>\n",
       "    </tr>\n",
       "    <tr>\n",
       "      <th>6</th>\n",
       "      <td>tt0140082</td>\n",
       "      <td>1</td>\n",
       "      <td>10.0</td>\n",
       "      <td>19</td>\n",
       "    </tr>\n",
       "    <tr>\n",
       "      <th>7</th>\n",
       "      <td>tt0160316</td>\n",
       "      <td>1</td>\n",
       "      <td>10.0</td>\n",
       "      <td>14</td>\n",
       "    </tr>\n",
       "    <tr>\n",
       "      <th>8</th>\n",
       "      <td>tt0176240</td>\n",
       "      <td>1</td>\n",
       "      <td>10.0</td>\n",
       "      <td>6</td>\n",
       "    </tr>\n",
       "    <tr>\n",
       "      <th>9</th>\n",
       "      <td>tt0193147</td>\n",
       "      <td>1</td>\n",
       "      <td>10.0</td>\n",
       "      <td>6</td>\n",
       "    </tr>\n",
       "    <tr>\n",
       "      <th>10</th>\n",
       "      <td>tt0204101</td>\n",
       "      <td>1</td>\n",
       "      <td>10.0</td>\n",
       "      <td>7</td>\n",
       "    </tr>\n",
       "    <tr>\n",
       "      <th>11</th>\n",
       "      <td>tt0229892</td>\n",
       "      <td>1</td>\n",
       "      <td>10.0</td>\n",
       "      <td>5</td>\n",
       "    </tr>\n",
       "    <tr>\n",
       "      <th>12</th>\n",
       "      <td>tt0236477</td>\n",
       "      <td>1</td>\n",
       "      <td>10.0</td>\n",
       "      <td>12</td>\n",
       "    </tr>\n",
       "    <tr>\n",
       "      <th>13</th>\n",
       "      <td>tt0237125</td>\n",
       "      <td>1</td>\n",
       "      <td>10.0</td>\n",
       "      <td>19</td>\n",
       "    </tr>\n",
       "    <tr>\n",
       "      <th>14</th>\n",
       "      <td>tt0237322</td>\n",
       "      <td>1</td>\n",
       "      <td>10.0</td>\n",
       "      <td>6</td>\n",
       "    </tr>\n",
       "  </tbody>\n",
       "</table>\n",
       "</div>"
      ],
      "text/plain": [
       "     title_id  region_num  rating  votes\n",
       "0   tt0050536           1    10.0     13\n",
       "1   tt0056535           1    10.0     13\n",
       "2   tt0061857           1    10.0     10\n",
       "3   tt0111263           1    10.0      7\n",
       "4   tt0116083           1    10.0     46\n",
       "5   tt0132596           1    10.0     12\n",
       "6   tt0140082           1    10.0     19\n",
       "7   tt0160316           1    10.0     14\n",
       "8   tt0176240           1    10.0      6\n",
       "9   tt0193147           1    10.0      6\n",
       "10  tt0204101           1    10.0      7\n",
       "11  tt0229892           1    10.0      5\n",
       "12  tt0236477           1    10.0     12\n",
       "13  tt0237125           1    10.0     19\n",
       "14  tt0237322           1    10.0      6"
      ]
     },
     "execution_count": 19,
     "metadata": {},
     "output_type": "execute_result"
    }
   ],
   "source": [
    "# define a function\n",
    "def rate_region(dbcon):\n",
    "    # write a query to extract needed information\n",
    "    query = '''SELECT title_id, region_num, rating, votes\n",
    "    FROM (SELECT title_id, COUNT(region) AS region_num\n",
    "    FROM akas\n",
    "    GROUP BY title_id) AS T\n",
    "    INNER JOIN ratings\n",
    "    USING (title_id)\n",
    "    ORDER BY rating DESC'''\n",
    "    \n",
    "    # use execute method with the defined query to have the result proxy\n",
    "    result_proxy = dbcon.execute(query)\n",
    "    \n",
    "    # use fetchall method on the result proxy object to get the result list\n",
    "    result_list = result_proxy.fetchall()\n",
    "    \n",
    "    # use DataFrame method of pandas to get the dataframe from the result list\n",
    "    df = pd.DataFrame(result_list, columns = result_proxy.keys())\n",
    "    \n",
    "    # print the number of records of the dataframe\n",
    "    print(\"Number of records:\", len(df))\n",
    "    return df.head(15)\n",
    "\n",
    "rate_region(connection)"
   ]
  },
  {
   "cell_type": "markdown",
   "id": "6eb943a8",
   "metadata": {},
   "source": [
    "Let's take a few minutes to look through our result. Wow... we have a lot of records (which we have to cut to optimize our function) and a result that is kind of opposite to our hypothesis. Also, it does take us a few seconds longer than normal to run the above code, which means that the database is large and the analysis is kind of hard to operate. There are number of things we should consider:\n",
    "- The query should focus on one type only.\n",
    "- The query should filter rows where the title is rated with the number of votes being equal or larger than the average number of votes."
   ]
  },
  {
   "cell_type": "code",
   "execution_count": 20,
   "id": "5752f08c",
   "metadata": {},
   "outputs": [],
   "source": [
    "# define a function\n",
    "def rate_region(dbcon, title_type):\n",
    "    # write a query using basic SQL statements and assign it to variable pyquery \n",
    "    pyquery = '''\n",
    "    SELECT title_id, region_num, rating, votes\n",
    "    FROM (SELECT title_id, region_num\n",
    "    FROM (SELECT title_id, COUNT(region) AS region_num\n",
    "    FROM akas\n",
    "    GROUP BY title_id) AS T\n",
    "    INNER JOIN titles\n",
    "    USING (title_id)\n",
    "    WHERE type = :tit_type) AS T1\n",
    "    INNER JOIN ratings\n",
    "    USING (title_id)\n",
    "    WHERE (votes > (SELECT AVG(votes)\n",
    "    FROM ratings))\n",
    "    ORDER BY rating DESC'''\n",
    "    \n",
    "    # use pyquery with a bind operation to create a dataframe df\n",
    "    prepare_stmt = sa.sql.text(pyquery)\n",
    "    bound_stmt = prepare_stmt.bindparams(tit_type = title_type)\n",
    "    df = pd.read_sql_query(bound_stmt, con = dbcon)\n",
    "    \n",
    "    # print the number of records of the dataframe\n",
    "    print(\"Number of records:\", len(df))\n",
    "    return df.head(15)"
   ]
  },
  {
   "cell_type": "code",
   "execution_count": 21,
   "id": "d7015c67",
   "metadata": {},
   "outputs": [
    {
     "name": "stdout",
     "output_type": "stream",
     "text": [
      "Number of records: 37058\n"
     ]
    },
    {
     "data": {
      "text/html": [
       "<div>\n",
       "<style scoped>\n",
       "    .dataframe tbody tr th:only-of-type {\n",
       "        vertical-align: middle;\n",
       "    }\n",
       "\n",
       "    .dataframe tbody tr th {\n",
       "        vertical-align: top;\n",
       "    }\n",
       "\n",
       "    .dataframe thead th {\n",
       "        text-align: right;\n",
       "    }\n",
       "</style>\n",
       "<table border=\"1\" class=\"dataframe\">\n",
       "  <thead>\n",
       "    <tr style=\"text-align: right;\">\n",
       "      <th></th>\n",
       "      <th>title_id</th>\n",
       "      <th>region_num</th>\n",
       "      <th>rating</th>\n",
       "      <th>votes</th>\n",
       "    </tr>\n",
       "  </thead>\n",
       "  <tbody>\n",
       "    <tr>\n",
       "      <th>0</th>\n",
       "      <td>tt16228146</td>\n",
       "      <td>4</td>\n",
       "      <td>10.0</td>\n",
       "      <td>4433</td>\n",
       "    </tr>\n",
       "    <tr>\n",
       "      <th>1</th>\n",
       "      <td>tt13440294</td>\n",
       "      <td>6</td>\n",
       "      <td>9.9</td>\n",
       "      <td>2010</td>\n",
       "    </tr>\n",
       "    <tr>\n",
       "      <th>2</th>\n",
       "      <td>tt16747572</td>\n",
       "      <td>9</td>\n",
       "      <td>9.9</td>\n",
       "      <td>8662</td>\n",
       "    </tr>\n",
       "    <tr>\n",
       "      <th>3</th>\n",
       "      <td>tt11379988</td>\n",
       "      <td>9</td>\n",
       "      <td>9.8</td>\n",
       "      <td>4975</td>\n",
       "    </tr>\n",
       "    <tr>\n",
       "      <th>4</th>\n",
       "      <td>tt7400974</td>\n",
       "      <td>2</td>\n",
       "      <td>9.8</td>\n",
       "      <td>2513</td>\n",
       "    </tr>\n",
       "    <tr>\n",
       "      <th>5</th>\n",
       "      <td>tt14923112</td>\n",
       "      <td>11</td>\n",
       "      <td>9.7</td>\n",
       "      <td>8666</td>\n",
       "    </tr>\n",
       "    <tr>\n",
       "      <th>6</th>\n",
       "      <td>tt15891800</td>\n",
       "      <td>2</td>\n",
       "      <td>9.7</td>\n",
       "      <td>1021</td>\n",
       "    </tr>\n",
       "    <tr>\n",
       "      <th>7</th>\n",
       "      <td>tt16258162</td>\n",
       "      <td>3</td>\n",
       "      <td>9.7</td>\n",
       "      <td>1084</td>\n",
       "    </tr>\n",
       "    <tr>\n",
       "      <th>8</th>\n",
       "      <td>tt16292898</td>\n",
       "      <td>2</td>\n",
       "      <td>9.7</td>\n",
       "      <td>1020</td>\n",
       "    </tr>\n",
       "    <tr>\n",
       "      <th>9</th>\n",
       "      <td>tt9794412</td>\n",
       "      <td>6</td>\n",
       "      <td>9.6</td>\n",
       "      <td>1343</td>\n",
       "    </tr>\n",
       "    <tr>\n",
       "      <th>10</th>\n",
       "      <td>tt0160966</td>\n",
       "      <td>1</td>\n",
       "      <td>9.5</td>\n",
       "      <td>3557</td>\n",
       "    </tr>\n",
       "    <tr>\n",
       "      <th>11</th>\n",
       "      <td>tt0382157</td>\n",
       "      <td>2</td>\n",
       "      <td>9.5</td>\n",
       "      <td>4323</td>\n",
       "    </tr>\n",
       "    <tr>\n",
       "      <th>12</th>\n",
       "      <td>tt11384328</td>\n",
       "      <td>2</td>\n",
       "      <td>9.5</td>\n",
       "      <td>1194</td>\n",
       "    </tr>\n",
       "    <tr>\n",
       "      <th>13</th>\n",
       "      <td>tt11423818</td>\n",
       "      <td>11</td>\n",
       "      <td>9.5</td>\n",
       "      <td>5116</td>\n",
       "    </tr>\n",
       "    <tr>\n",
       "      <th>14</th>\n",
       "      <td>tt14996298</td>\n",
       "      <td>2</td>\n",
       "      <td>9.5</td>\n",
       "      <td>2079</td>\n",
       "    </tr>\n",
       "  </tbody>\n",
       "</table>\n",
       "</div>"
      ],
      "text/plain": [
       "      title_id  region_num  rating  votes\n",
       "0   tt16228146           4    10.0   4433\n",
       "1   tt13440294           6     9.9   2010\n",
       "2   tt16747572           9     9.9   8662\n",
       "3   tt11379988           9     9.8   4975\n",
       "4    tt7400974           2     9.8   2513\n",
       "5   tt14923112          11     9.7   8666\n",
       "6   tt15891800           2     9.7   1021\n",
       "7   tt16258162           3     9.7   1084\n",
       "8   tt16292898           2     9.7   1020\n",
       "9    tt9794412           6     9.6   1343\n",
       "10   tt0160966           1     9.5   3557\n",
       "11   tt0382157           2     9.5   4323\n",
       "12  tt11384328           2     9.5   1194\n",
       "13  tt11423818          11     9.5   5116\n",
       "14  tt14996298           2     9.5   2079"
      ]
     },
     "execution_count": 21,
     "metadata": {},
     "output_type": "execute_result"
    }
   ],
   "source": [
    "rate_region(connection, \"movie\")"
   ]
  },
  {
   "cell_type": "markdown",
   "id": "ec7553d0",
   "metadata": {},
   "source": [
    "Here it is! The dataframe now looks more neat and may have what we need for analysis. Let's turn it into a scatter plot to see the correlation more clear. "
   ]
  },
  {
   "cell_type": "markdown",
   "id": "3414dff9",
   "metadata": {},
   "source": [
    "**Insert the scatter plot into the function.**"
   ]
  },
  {
   "cell_type": "code",
   "execution_count": 22,
   "id": "389aeb7c",
   "metadata": {},
   "outputs": [],
   "source": [
    "# define a function\n",
    "def rate_region(dbcon, title_type):\n",
    "    # write a query using basic SQL statements and assign it to variable pyquery \n",
    "    pyquery = '''\n",
    "    SELECT title_id, region_num, rating, votes\n",
    "    FROM (SELECT title_id, region_num\n",
    "    FROM (SELECT title_id, COUNT(region) AS region_num\n",
    "    FROM akas\n",
    "    GROUP BY title_id) AS T\n",
    "    INNER JOIN titles\n",
    "    USING (title_id)\n",
    "    WHERE type = :tit_type) AS T1\n",
    "    INNER JOIN ratings\n",
    "    USING (title_id)\n",
    "    WHERE (votes > (SELECT AVG(votes)\n",
    "    FROM ratings))\n",
    "    ORDER BY rating DESC'''\n",
    "    \n",
    "    # use pyquery with a bind operation to create a dataframe df\n",
    "    prepare_stmt = sa.sql.text(pyquery)\n",
    "    bound_stmt = prepare_stmt.bindparams(tit_type = title_type)\n",
    "    df = pd.read_sql_query(bound_stmt, con = dbcon)\n",
    "    \n",
    "    # use scatter method of matplotlib library to draw a scatter plot\n",
    "    plt.scatter(df[\"rating\"], df[\"region_num\"])\n",
    "    plt.title(\"Scatter plot of Rating vs. Number of regions that the title is streamed\")\n",
    "    plt.xlabel(\"Rating\")\n",
    "    plt.ylabel(\"Number of regions\")\n",
    "    plt.show"
   ]
  },
  {
   "cell_type": "markdown",
   "id": "64944b88",
   "metadata": {},
   "source": [
    "**Run the code below to test our function with movie type.**"
   ]
  },
  {
   "cell_type": "code",
   "execution_count": 23,
   "id": "a4863309",
   "metadata": {},
   "outputs": [
    {
     "data": {
      "image/png": "[encoded data removed]",
      "text/plain": [
       "<Figure size 432x288 with 1 Axes>"
      ]
     },
     "metadata": {
      "needs_background": "light"
     },
     "output_type": "display_data"
    }
   ],
   "source": [
    "rate_region(connection, \"movie\")"
   ]
  },
  {
   "cell_type": "markdown",
   "id": "e0e65e95",
   "metadata": {},
   "source": [
    "Hmmm... Never see any scatter plot like this before? Me too. Shall we try another type? "
   ]
  },
  {
   "cell_type": "markdown",
   "id": "81570471",
   "metadata": {},
   "source": [
    "**Run the code below to test our function with short film type.**"
   ]
  },
  {
   "cell_type": "code",
   "execution_count": 24,
   "id": "64df03ad",
   "metadata": {},
   "outputs": [
    {
     "data": {
      "image/png": "[encoded data removed]",
      "text/plain": [
       "<Figure size 432x288 with 1 Axes>"
      ]
     },
     "metadata": {
      "needs_background": "light"
     },
     "output_type": "display_data"
    }
   ],
   "source": [
    "rate_region(connection, \"short\")"
   ]
  },
  {
   "cell_type": "markdown",
   "id": "7f514f53",
   "metadata": {},
   "source": [
    "Interesting. You may notice that there is no trend shown in the scatter plot. It is vague to conclude that whether there is a clear correlation or not."
   ]
  },
  {
   "cell_type": "markdown",
   "id": "c05b5857",
   "metadata": {},
   "source": [
    "**Run the code below to patiently test one more type: TV series.**"
   ]
  },
  {
   "cell_type": "code",
   "execution_count": 25,
   "id": "2229f3be",
   "metadata": {},
   "outputs": [
    {
     "data": {
      "image/png": "[encoded data removed]",
      "text/plain": [
       "<Figure size 432x288 with 1 Axes>"
      ]
     },
     "metadata": {
      "needs_background": "light"
     },
     "output_type": "display_data"
    }
   ],
   "source": [
    "rate_region(connection, \"tvSeries\")"
   ]
  },
  {
   "cell_type": "markdown",
   "id": "c4c6bae0",
   "metadata": {},
   "source": [
    "From these graphs, we can notice that there is no such a correlation between rating and the number of regions a title is streamed. However, it seems like there is always one outlier in each graph that shows the rating being around 8 with the highest number of streaming regions."
   ]
  },
  {
   "cell_type": "markdown",
   "id": "2706e167",
   "metadata": {},
   "source": [
    "<div class=\"exercise\"><b>Write a function to check the popularity of a specific genre of movies and get the top 3 recommended movies for that genre.</b></div> \n",
    "With the movie database, we can analyze a lot of interesting things which help us to diversify our movie list as well! With the current database, we can examine the popularity of one specific genre at that time. After getting the insights of the genre, we can also get the top 3 recommended movies of that genre. "
   ]
  },
  {
   "cell_type": "markdown",
   "id": "7a600a0a",
   "metadata": {},
   "source": [
    "**Let's first define a function and write simple queries**"
   ]
  },
  {
   "cell_type": "code",
   "execution_count": 26,
   "id": "997a2bc1",
   "metadata": {},
   "outputs": [],
   "source": [
    "# define a function\n",
    "def genre_examine(dbcon, genre):\n",
    "    # write the first query to extract the total number of records which have genres\n",
    "    query1 = '''\n",
    "    SELECT COUNT(DISTINCT title_id) AS total\n",
    "    FROM (SELECT title_id, genres \n",
    "    FROM titles \n",
    "    WHERE type = 'movie' AND genres <> '\\\\N')\n",
    "    '''\n",
    "    \n",
    "    # write the second query to extract the total number of records which have the specified genre\n",
    "    template = \"\"\"\n",
    "    SELECT COUNT(DISTINCT title_id) AS specified_records\n",
    "    FROM titles\n",
    "    WHERE type = 'movie' AND genres LIKE '%{}%'\n",
    "    \"\"\"\n",
    "    \n",
    "    # use format() method to create a complete query\n",
    "    query2 = template.format(genre)\n",
    "    \n",
    "    # use execute method with the defined queries to have the result proxies\n",
    "    result_proxy = dbcon.execute(query1)\n",
    "    result_proxy2 = dbcon.execute(query2)\n",
    "    \n",
    "    # use fetchall method on the result proxy objects to get the result lists\n",
    "    result_list = result_proxy.fetchall()\n",
    "    result_list2 = result_proxy2.fetchall()\n",
    "    \n",
    "    # use DataFrame method of pandas to get the dataframes from the result lists\n",
    "    df = pd.DataFrame(result_list, columns = result_proxy.keys())\n",
    "    df2 = pd.DataFrame(result_list2, columns = result_proxy2.keys())\n",
    "    \n",
    "    return df, df2"
   ]
  },
  {
   "cell_type": "code",
   "execution_count": 27,
   "id": "53deee93",
   "metadata": {},
   "outputs": [
    {
     "data": {
      "text/html": [
       "<div>\n",
       "<style scoped>\n",
       "    .dataframe tbody tr th:only-of-type {\n",
       "        vertical-align: middle;\n",
       "    }\n",
       "\n",
       "    .dataframe tbody tr th {\n",
       "        vertical-align: top;\n",
       "    }\n",
       "\n",
       "    .dataframe thead th {\n",
       "        text-align: right;\n",
       "    }\n",
       "</style>\n",
       "<table border=\"1\" class=\"dataframe\">\n",
       "  <thead>\n",
       "    <tr style=\"text-align: right;\">\n",
       "      <th></th>\n",
       "      <th>total</th>\n",
       "    </tr>\n",
       "  </thead>\n",
       "  <tbody>\n",
       "    <tr>\n",
       "      <th>0</th>\n",
       "      <td>534211</td>\n",
       "    </tr>\n",
       "  </tbody>\n",
       "</table>\n",
       "</div>"
      ],
      "text/plain": [
       "    total\n",
       "0  534211"
      ]
     },
     "metadata": {},
     "output_type": "display_data"
    },
    {
     "data": {
      "text/html": [
       "<div>\n",
       "<style scoped>\n",
       "    .dataframe tbody tr th:only-of-type {\n",
       "        vertical-align: middle;\n",
       "    }\n",
       "\n",
       "    .dataframe tbody tr th {\n",
       "        vertical-align: top;\n",
       "    }\n",
       "\n",
       "    .dataframe thead th {\n",
       "        text-align: right;\n",
       "    }\n",
       "</style>\n",
       "<table border=\"1\" class=\"dataframe\">\n",
       "  <thead>\n",
       "    <tr style=\"text-align: right;\">\n",
       "      <th></th>\n",
       "      <th>specified_records</th>\n",
       "    </tr>\n",
       "  </thead>\n",
       "  <tbody>\n",
       "    <tr>\n",
       "      <th>0</th>\n",
       "      <td>33612</td>\n",
       "    </tr>\n",
       "  </tbody>\n",
       "</table>\n",
       "</div>"
      ],
      "text/plain": [
       "   specified_records\n",
       "0              33612"
      ]
     },
     "metadata": {},
     "output_type": "display_data"
    }
   ],
   "source": [
    "df, df2 = genre_examine(connection, \"Horror\")\n",
    "display(df, df2)"
   ]
  },
  {
   "cell_type": "markdown",
   "id": "13fdab3d",
   "metadata": {},
   "source": [
    "Hmmm it seems like we can improve the code by combining these two queries into one only to get the percentage showing the popularity of one specific genre."
   ]
  },
  {
   "cell_type": "code",
   "execution_count": 28,
   "id": "5dc9301c",
   "metadata": {},
   "outputs": [
    {
     "name": "stdout",
     "output_type": "stream",
     "text": [
      "The distribution of the Horror genre is 6.292%.\n"
     ]
    }
   ],
   "source": [
    "# define a function\n",
    "def genre_examine(dbcon, genre):\n",
    "    # write the template to extract the distribution of a specified genre\n",
    "    template = '''SELECT (1.0 * COUNT(DISTINCT title_id) / (SELECT COUNT(title_id) \n",
    "    FROM (SELECT title_id, genres \n",
    "    FROM titles \n",
    "    WHERE type = 'movie' AND genres <> '\\\\N')))*100 AS percentage\n",
    "    FROM titles\n",
    "    WHERE type = 'movie' AND genres LIKE '%{}%'\n",
    "    '''\n",
    "    \n",
    "    # use format() method to create a complete query\n",
    "    query = template.format(genre)\n",
    "    \n",
    "    # use execute method with the defined query to have the result proxy\n",
    "    result_proxy = dbcon.execute(query)\n",
    "    \n",
    "    # use fetchall method on the result proxy object to get the result list\n",
    "    result_list = result_proxy.fetchall()\n",
    "    \n",
    "    # use DataFrame method of pandas to get the dataframe from the result list\n",
    "    df = pd.DataFrame(result_list, columns = result_proxy.keys())\n",
    "    print(\"The distribution of the\", genre, \"genre is\", str(round(df.iloc[0,0],3))+\"%.\")\n",
    "\n",
    "genre_examine(connection, \"Horror\")"
   ]
  },
  {
   "cell_type": "markdown",
   "id": "8cd2eae6",
   "metadata": {},
   "source": [
    "From this, we now have a report of the popularity of the genre that we want to examine. Okay, let's work on the second part where we want to recommend the user top 3 movies from that genre."
   ]
  },
  {
   "cell_type": "code",
   "execution_count": null,
   "id": "e12baebd",
   "metadata": {},
   "outputs": [],
   "source": [
    "# define a function\n",
    "def genre_examine(dbcon, genre):\n",
    "    # write the first template to extract the distribution of a specified genre\n",
    "    template1 = '''SELECT (1.0 * COUNT(DISTINCT title_id) / (SELECT COUNT(title_id) \n",
    "    FROM (SELECT title_id, genres \n",
    "    FROM titles \n",
    "    WHERE type = 'movie' AND genres <> '\\\\N')))*100 AS percentage\n",
    "    FROM titles\n",
    "    WHERE type = 'movie' AND genres LIKE '%{}%'\n",
    "    '''\n",
    "    \n",
    "    # write the second template to get the top 3 rated movies of a specified genre\n",
    "    template2 = '''SELECT DISTINCT primary_title AS title, name AS director, premiered, rating\n",
    "    FROM (SELECT name, primary_title, title_id, premiered\n",
    "    FROM (SELECT name, title_id\n",
    "    FROM people\n",
    "    INNER JOIN crew\n",
    "    USING (person_id)\n",
    "    WHERE category = 'director') AS T1\n",
    "    INNER JOIN titles\n",
    "    USING (title_id)\n",
    "    WHERE type = 'movie' AND genres LIKE '%{}%') AS T2\n",
    "    INNER JOIN ratings\n",
    "    USING (title_id)\n",
    "    WHERE (votes > (SELECT AVG(votes)\n",
    "    FROM ratings))\n",
    "    ORDER BY rating DESC\n",
    "    LIMIT 3\n",
    "    '''\n",
    "    \n",
    "    # use format() method to create complete queries\n",
    "    query1 = template1.format(genre)\n",
    "    query2 = template2.format(genre)\n",
    "    \n",
    "    # use execute method with the defined queries to have the result proxies\n",
    "    result_proxy1 = dbcon.execute(query1)\n",
    "    result_proxy2 = dbcon.execute(query2)\n",
    "    \n",
    "    # use fetchall method on the result proxy objects to get the result lists\n",
    "    result_list1 = result_proxy1.fetchall()\n",
    "    result_list2 = result_proxy2.fetchall()\n",
    "    \n",
    "    # use DataFrame method of pandas to get the dataframes from the result lists\n",
    "    df1 = pd.DataFrame(result_list1, columns = result_proxy1.keys())\n",
    "    df2 = pd.DataFrame(result_list2, columns = result_proxy2.keys())\n",
    "    print(\"The distribution of the\", genre, \"genre is\", str(round(df1.iloc[0,0],3))+\"%.\")\n",
    "    return df2"
   ]
  },
  {
   "cell_type": "code",
   "execution_count": 29,
   "id": "2941e38c",
   "metadata": {
    "scrolled": true
   },
   "outputs": [
    {
     "name": "stdout",
     "output_type": "stream",
     "text": [
      "The distribution of the Horror genre is 6.292%.\n"
     ]
    }
   ],
   "source": [
    "genre_examine(connection, \"Horror\")"
   ]
  },
  {
   "cell_type": "markdown",
   "id": "d7ce2839",
   "metadata": {},
   "source": [
    "We now have everything! Let's edit the function so it can be more interactive."
   ]
  },
  {
   "cell_type": "code",
   "execution_count": 30,
   "id": "a8f10771",
   "metadata": {
    "scrolled": true
   },
   "outputs": [],
   "source": [
    "# define a function\n",
    "def genre_examine(dbcon, genre):\n",
    "    # write the first template to extract the distribution of a specified genre\n",
    "    template1 = '''SELECT (1.0 * COUNT(DISTINCT title_id) / (SELECT COUNT(title_id) \n",
    "    FROM (SELECT title_id, genres \n",
    "    FROM titles \n",
    "    WHERE type = 'movie' AND genres <> '\\\\N')))*100 AS percentage\n",
    "    FROM titles\n",
    "    WHERE type = 'movie' AND genres LIKE '%{}%'\n",
    "    '''\n",
    "    \n",
    "    # write the second template to get the top 3 rated movies of a specified genre\n",
    "    template2 = '''SELECT DISTINCT primary_title AS title, name AS director, premiered, rating\n",
    "    FROM (SELECT name, primary_title, title_id, premiered\n",
    "    FROM (SELECT name, title_id\n",
    "    FROM people\n",
    "    INNER JOIN crew\n",
    "    USING (person_id)\n",
    "    WHERE category = 'director') AS T1\n",
    "    INNER JOIN titles\n",
    "    USING (title_id)\n",
    "    WHERE type = 'movie' AND genres LIKE '%{}%') AS T2\n",
    "    INNER JOIN ratings\n",
    "    USING (title_id)\n",
    "    WHERE (votes > (SELECT AVG(votes)\n",
    "    FROM ratings))\n",
    "    ORDER BY rating DESC\n",
    "    LIMIT 3\n",
    "    '''\n",
    "    \n",
    "    # use format() method to create complete queries\n",
    "    query1 = template1.format(genre)\n",
    "    query2 = template2.format(genre)\n",
    "    \n",
    "    # use execute method with the defined queries to have the result proxies\n",
    "    result_proxy1 = dbcon.execute(query1)\n",
    "    result_proxy2 = dbcon.execute(query2)\n",
    "    \n",
    "    # use fetchall method on the result proxy objects to get the result lists\n",
    "    result_list1 = result_proxy1.fetchall()\n",
    "    result_list2 = result_proxy2.fetchall()\n",
    "    \n",
    "    # use DataFrame method of pandas to get the dataframes from the result lists\n",
    "    df1 = pd.DataFrame(result_list1, columns = result_proxy1.keys())\n",
    "    df2 = pd.DataFrame(result_list2, columns = result_proxy2.keys())\n",
    "    print(\"The distribution of the\", genre, \"genre is\", str(round(df1.iloc[0,0],3))+\"%.\")\n",
    "    print(\"Top 3 \" + genre + \" movies recommended for you are:\")\n",
    "    print(\"------------\")\n",
    "    for i in range(len(df2)):\n",
    "        print(str(i+1) + \". \" + df2.loc[i, \"title\"] + \" (\" + str(df2.loc[i, \"premiered\"]) + \") directed by \" + df2.loc[i, \"director\"] + \" and rated \" + str(df2.loc[i, \"rating\"]) + \".\")"
   ]
  },
  {
   "cell_type": "markdown",
   "id": "8a380306",
   "metadata": {},
   "source": [
    "**Run the code below to test our function with Horror genre**"
   ]
  },
  {
   "cell_type": "code",
   "execution_count": 31,
   "id": "c4253f08",
   "metadata": {
    "scrolled": true
   },
   "outputs": [
    {
     "name": "stdout",
     "output_type": "stream",
     "text": [
      "The distribution of the Horror genre is 6.292%.\n",
      "Top 3 Horror movies recommended for you are:\n",
      "------------\n",
      "1. Half Stories (2022) directed by Siva Kesanakurthi and rated 9.3.\n",
      "2. Shhh! (1993) directed by Upendra and rated 8.8.\n",
      "3. Manichithrathazhu (1993) directed by Fazil and rated 8.7.\n"
     ]
    }
   ],
   "source": [
    "genre_examine(connection, \"Horror\")"
   ]
  },
  {
   "cell_type": "markdown",
   "id": "1d4a6988",
   "metadata": {},
   "source": [
    "**Run the code below to test our function with Action genre**"
   ]
  },
  {
   "cell_type": "code",
   "execution_count": 32,
   "id": "ef247596",
   "metadata": {},
   "outputs": [
    {
     "name": "stdout",
     "output_type": "stream",
     "text": [
      "The distribution of the Action genre is 9.497%.\n",
      "Top 3 Action movies recommended for you are:\n",
      "------------\n",
      "1. James (2022) directed by Chethan Kumar and rated 9.8.\n",
      "2. Katari Krishna (2021) directed by Prakash Tirumalasetty and rated 9.7.\n",
      "3. Nayeem Diaries (2021) directed by Daamubalaji and rated 9.7.\n"
     ]
    }
   ],
   "source": [
    "genre_examine(connection, \"Action\")"
   ]
  },
  {
   "cell_type": "markdown",
   "id": "db913822",
   "metadata": {},
   "source": [
    "**Run the code below to test our function with Romance genre**"
   ]
  },
  {
   "cell_type": "code",
   "execution_count": 33,
   "id": "b8147cc8",
   "metadata": {},
   "outputs": [
    {
     "name": "stdout",
     "output_type": "stream",
     "text": [
      "The distribution of the Romance genre is 8.337%.\n",
      "Top 3 Romance movies recommended for you are:\n",
      "------------\n",
      "1. The South End (1997) directed by Riccardo DiLoreto and rated 9.5.\n",
      "2. Charlie Boy (2021) directed by Timothy Hines and rated 9.4.\n",
      "3. Ek Love Ya (2022) directed by Prem and rated 9.2.\n"
     ]
    }
   ],
   "source": [
    "genre_examine(connection, \"Romance\")"
   ]
  },
  {
   "cell_type": "markdown",
   "id": "9310a6c0",
   "metadata": {},
   "source": [
    "After all, we should remember to close our connection to the database as well as delete the used engine to make sure all the data will not be changed."
   ]
  },
  {
   "cell_type": "code",
   "execution_count": 34,
   "id": "5ba97e5a",
   "metadata": {},
   "outputs": [],
   "source": [
    "connection.close()\n",
    "del engine"
   ]
  },
  {
   "cell_type": "markdown",
   "id": "f9898e96",
   "metadata": {},
   "source": [
    "That's interesting! There are a lot of more things that we can analyze with this big dataset. I hope the functions we have gone through here can give you useful information about the imdb database and good movie recommendation that you can watch with your family or friends."
   ]
  }
 ],
 "metadata": {
  "kernelspec": {
   "display_name": "Python 3 (ipykernel)",
   "language": "python",
   "name": "python3"
  },
  "language_info": {
   "codemirror_mode": {
    "name": "ipython",
    "version": 3
   },
   "file_extension": ".py",
   "mimetype": "text/x-python",
   "name": "python",
   "nbconvert_exporter": "python",
   "pygments_lexer": "ipython3",
   "version": "3.9.7"
  }
 },
 "nbformat": 4,
 "nbformat_minor": 5
}
